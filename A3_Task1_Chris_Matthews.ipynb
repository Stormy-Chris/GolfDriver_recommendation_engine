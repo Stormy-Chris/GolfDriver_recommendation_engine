{
 "cells": [
  {
   "cell_type": "markdown",
   "id": "b13c0c89",
   "metadata": {},
   "source": [
    "# Assessment 3 - Task 1"
   ]
  },
  {
   "cell_type": "markdown",
   "id": "a922e9fd",
   "metadata": {},
   "source": [
    "## *Overview*"
   ]
  },
  {
   "cell_type": "markdown",
   "id": "29be9428",
   "metadata": {},
   "source": [
    "### The task chosen for this assessment was to develop a recommendation system for golf clubs - more specifically for a single club, the golf driver. The methodology behind this task is to utilise two web crawlers to scape information from two specific sites. One to get information on drivers that are for sale. The other to get reviews for a series of drivers and then link the reviews to the clubs for sale. Using this information a recommendation based on user input requirements will be used to recommend five driver options to the user."
   ]
  },
  {
   "cell_type": "markdown",
   "id": "496b5a91",
   "metadata": {},
   "source": [
    "## *Data Sources*"
   ]
  },
  {
   "cell_type": "markdown",
   "id": "3f40899b",
   "metadata": {},
   "source": [
    "### There are several parts involved in completing this task. The first step was to research a suitable website to gain the information regarding the purchase of a golf driver. The site chosen was the drivers section of golftraders.com (https://www.golftraders.com.au/drivers/). There were (at the time the code was executed) 98 different drivers listed on the site, both new and used. This became important for the second part of this task, namely gaining review information. Golf retailer website typically have the newest gear on their sites and so using the golftrader site allowed for a much larger number of driver types to be retrieved. \n",
    "\n",
    "### The review information was taken from golfmonthly.com (https://www.golfmonthly.com/reviews/drivers/). There were 229 individual reviews of drivers spread over 12 pages with 20 per page. The reviews section has grown over time and so there are reviews for recent drivers and also older drivers. This allowed for matching of most drivers for sale on the golftraders with a review from golfmonthly."
   ]
  },
  {
   "cell_type": "markdown",
   "id": "d452c40f",
   "metadata": {},
   "source": [
    "## *Natural Language Processing Methodologies*"
   ]
  },
  {
   "cell_type": "markdown",
   "id": "6e410f18",
   "metadata": {},
   "source": [
    "### The NLP methodologies used in this assessment relate to the extraction of information from the two websites and the recommendation engine. The extraction of information from the websites was performed using the BeautifulSoup python package. NLP methods such as tokenisation were used in this first part. Further tokenisation and removing of the stop words/lemmatisation and stemming was also performed on the inputs to the recommendation engine. The FuzzyWuzzy python package was then used on information extracted from the websites to build a recommendation engine. The FuzzyWuzzy package uses the Levenshtein distance to calculate how different two strings are. User entered inputs are compared against the reviews to aid in the recommendation of a golf driver to the user. "
   ]
  },
  {
   "cell_type": "markdown",
   "id": "0dbeedf0",
   "metadata": {},
   "source": [
    "## It must also be stated that the output when exported to PDF format is not as neat as when shown in the juypter notebooks."
   ]
  },
  {
   "cell_type": "markdown",
   "id": "ef645eff",
   "metadata": {},
   "source": [
    "### The youtube link for the presentation in task 4 is : https://www.youtube.com/watch?v=UacxGodnX_s"
   ]
  },
  {
   "cell_type": "code",
   "execution_count": null,
   "id": "40ca584c",
   "metadata": {},
   "outputs": [],
   "source": []
  }
 ],
 "metadata": {
  "kernelspec": {
   "display_name": "Python 3 (ipykernel)",
   "language": "python",
   "name": "python3"
  },
  "language_info": {
   "codemirror_mode": {
    "name": "ipython",
    "version": 3
   },
   "file_extension": ".py",
   "mimetype": "text/x-python",
   "name": "python",
   "nbconvert_exporter": "python",
   "pygments_lexer": "ipython3",
   "version": "3.8.12"
  }
 },
 "nbformat": 4,
 "nbformat_minor": 5
}
